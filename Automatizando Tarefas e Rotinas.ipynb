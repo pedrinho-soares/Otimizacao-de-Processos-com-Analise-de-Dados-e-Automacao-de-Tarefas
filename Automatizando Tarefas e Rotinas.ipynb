{
 "cells": [
  {
   "cell_type": "markdown",
   "metadata": {},
   "source": [
    "# Programa de análise de dados e automação de tarefas\n",
    "\n",
    "Passo a passo do problema\n",
    "\n",
    "- Buscar as informações da ação automaticamente\n",
    "- Criar as análises solicitadas pelo gerente\n",
    "    - Cotação máxima\n",
    "    - Cotação minima\n",
    "    - Valor médio\n",
    "\n",
    "- Enviar um e-mail automaticamente para o gestor"
   ]
  },
  {
   "cell_type": "markdown",
   "metadata": {},
   "source": [
    "#### Buscar dados da ação automaticamente\n",
    "\n",
    "Bibliotecas: ´yfinance´ e ´matplotlib´"
   ]
  },
  {
   "cell_type": "code",
   "execution_count": 3,
   "metadata": {},
   "outputs": [
    {
     "name": "stdout",
     "output_type": "stream",
     "text": [
      "Defaulting to user installation because normal site-packages is not writeable\n",
      "Collecting yfinance\n",
      "  Downloading yfinance-0.2.41-py2.py3-none-any.whl.metadata (11 kB)\n",
      "Requirement already satisfied: pandas>=1.3.0 in c:\\programdata\\anaconda3\\lib\\site-packages (from yfinance) (2.1.4)\n",
      "Requirement already satisfied: numpy>=1.16.5 in c:\\programdata\\anaconda3\\lib\\site-packages (from yfinance) (1.26.4)\n",
      "Requirement already satisfied: requests>=2.31 in c:\\programdata\\anaconda3\\lib\\site-packages (from yfinance) (2.31.0)\n",
      "Collecting multitasking>=0.0.7 (from yfinance)\n",
      "  Downloading multitasking-0.0.11-py3-none-any.whl.metadata (5.5 kB)\n",
      "Requirement already satisfied: lxml>=4.9.1 in c:\\programdata\\anaconda3\\lib\\site-packages (from yfinance) (4.9.3)\n",
      "Requirement already satisfied: platformdirs>=2.0.0 in c:\\programdata\\anaconda3\\lib\\site-packages (from yfinance) (3.10.0)\n",
      "Requirement already satisfied: pytz>=2022.5 in c:\\programdata\\anaconda3\\lib\\site-packages (from yfinance) (2023.3.post1)\n",
      "Collecting frozendict>=2.3.4 (from yfinance)\n",
      "  Downloading frozendict-2.4.4-py311-none-any.whl.metadata (23 kB)\n",
      "Collecting peewee>=3.16.2 (from yfinance)\n",
      "  Downloading peewee-3.17.6.tar.gz (3.0 MB)\n",
      "     ---------------------------------------- 0.0/3.0 MB ? eta -:--:--\n",
      "      --------------------------------------- 0.1/3.0 MB 2.0 MB/s eta 0:00:02\n",
      "     -- ------------------------------------- 0.2/3.0 MB 2.4 MB/s eta 0:00:02\n",
      "     ----- ---------------------------------- 0.4/3.0 MB 2.7 MB/s eta 0:00:01\n",
      "     ------- -------------------------------- 0.6/3.0 MB 3.0 MB/s eta 0:00:01\n",
      "     -------- ------------------------------- 0.6/3.0 MB 2.7 MB/s eta 0:00:01\n",
      "     ---------- ----------------------------- 0.8/3.0 MB 2.8 MB/s eta 0:00:01\n",
      "     ----------- ---------------------------- 0.8/3.0 MB 2.6 MB/s eta 0:00:01\n",
      "     ------------- -------------------------- 1.0/3.0 MB 2.5 MB/s eta 0:00:01\n",
      "     ------------- -------------------------- 1.0/3.0 MB 2.6 MB/s eta 0:00:01\n",
      "     --------------- ------------------------ 1.1/3.0 MB 2.4 MB/s eta 0:00:01\n",
      "     --------------- ------------------------ 1.2/3.0 MB 2.4 MB/s eta 0:00:01\n",
      "     ---------------- ----------------------- 1.2/3.0 MB 2.2 MB/s eta 0:00:01\n",
      "     ---------------- ----------------------- 1.2/3.0 MB 2.2 MB/s eta 0:00:01\n",
      "     ------------------ --------------------- 1.4/3.0 MB 2.1 MB/s eta 0:00:01\n",
      "     ------------------- -------------------- 1.4/3.0 MB 2.1 MB/s eta 0:00:01\n",
      "     ---------------------- ----------------- 1.6/3.0 MB 2.2 MB/s eta 0:00:01\n",
      "     ---------------------- ----------------- 1.7/3.0 MB 2.2 MB/s eta 0:00:01\n",
      "     ------------------------ --------------- 1.8/3.0 MB 2.3 MB/s eta 0:00:01\n",
      "     -------------------------- ------------- 1.9/3.0 MB 2.2 MB/s eta 0:00:01\n",
      "     --------------------------- ------------ 2.0/3.0 MB 2.2 MB/s eta 0:00:01\n",
      "     ---------------------------- ----------- 2.1/3.0 MB 2.1 MB/s eta 0:00:01\n",
      "     ---------------------------- ----------- 2.1/3.0 MB 2.1 MB/s eta 0:00:01\n",
      "     -------------------------------- ------- 2.4/3.0 MB 2.2 MB/s eta 0:00:01\n",
      "     --------------------------------- ------ 2.5/3.0 MB 2.2 MB/s eta 0:00:01\n",
      "     ----------------------------------- ---- 2.6/3.0 MB 2.2 MB/s eta 0:00:01\n",
      "     ------------------------------------ --- 2.7/3.0 MB 2.2 MB/s eta 0:00:01\n",
      "     ------------------------------------ --- 2.7/3.0 MB 2.2 MB/s eta 0:00:01\n",
      "     -------------------------------------- - 2.8/3.0 MB 2.2 MB/s eta 0:00:01\n",
      "     ---------------------------------------  2.9/3.0 MB 2.2 MB/s eta 0:00:01\n",
      "     ---------------------------------------- 3.0/3.0 MB 2.2 MB/s eta 0:00:00\n",
      "  Installing build dependencies: started\n",
      "  Installing build dependencies: finished with status 'done'\n",
      "  Getting requirements to build wheel: started\n",
      "  Getting requirements to build wheel: finished with status 'done'\n",
      "  Preparing metadata (pyproject.toml): started\n",
      "  Preparing metadata (pyproject.toml): finished with status 'done'\n",
      "Requirement already satisfied: beautifulsoup4>=4.11.1 in c:\\programdata\\anaconda3\\lib\\site-packages (from yfinance) (4.12.2)\n",
      "Collecting html5lib>=1.1 (from yfinance)\n",
      "  Downloading html5lib-1.1-py2.py3-none-any.whl.metadata (16 kB)\n",
      "Requirement already satisfied: soupsieve>1.2 in c:\\programdata\\anaconda3\\lib\\site-packages (from beautifulsoup4>=4.11.1->yfinance) (2.5)\n",
      "Requirement already satisfied: six>=1.9 in c:\\programdata\\anaconda3\\lib\\site-packages (from html5lib>=1.1->yfinance) (1.16.0)\n",
      "Requirement already satisfied: webencodings in c:\\programdata\\anaconda3\\lib\\site-packages (from html5lib>=1.1->yfinance) (0.5.1)\n",
      "Requirement already satisfied: python-dateutil>=2.8.2 in c:\\programdata\\anaconda3\\lib\\site-packages (from pandas>=1.3.0->yfinance) (2.8.2)\n",
      "Requirement already satisfied: tzdata>=2022.1 in c:\\programdata\\anaconda3\\lib\\site-packages (from pandas>=1.3.0->yfinance) (2023.3)\n",
      "Requirement already satisfied: charset-normalizer<4,>=2 in c:\\programdata\\anaconda3\\lib\\site-packages (from requests>=2.31->yfinance) (2.0.4)\n",
      "Requirement already satisfied: idna<4,>=2.5 in c:\\programdata\\anaconda3\\lib\\site-packages (from requests>=2.31->yfinance) (3.4)\n",
      "Requirement already satisfied: urllib3<3,>=1.21.1 in c:\\programdata\\anaconda3\\lib\\site-packages (from requests>=2.31->yfinance) (2.0.7)\n",
      "Requirement already satisfied: certifi>=2017.4.17 in c:\\programdata\\anaconda3\\lib\\site-packages (from requests>=2.31->yfinance) (2024.2.2)\n",
      "Downloading yfinance-0.2.41-py2.py3-none-any.whl (73 kB)\n",
      "   ---------------------------------------- 0.0/73.5 kB ? eta -:--:--\n",
      "   ---------------------------------------- 73.5/73.5 kB 4.2 MB/s eta 0:00:00\n",
      "Downloading frozendict-2.4.4-py311-none-any.whl (16 kB)\n",
      "Downloading html5lib-1.1-py2.py3-none-any.whl (112 kB)\n",
      "   ---------------------------------------- 0.0/112.2 kB ? eta -:--:--\n",
      "   ---------------------------------------- 112.2/112.2 kB 2.2 MB/s eta 0:00:00\n",
      "Downloading multitasking-0.0.11-py3-none-any.whl (8.5 kB)\n",
      "Building wheels for collected packages: peewee\n",
      "  Building wheel for peewee (pyproject.toml): started\n",
      "  Building wheel for peewee (pyproject.toml): finished with status 'done'\n",
      "  Created wheel for peewee: filename=peewee-3.17.6-py3-none-any.whl size=138938 sha256=fe9c720587e2d3326a095fcc8d1e9bcb32f7f838b3988bf9312adcafee08ff6c\n",
      "  Stored in directory: c:\\users\\pedro soares\\appdata\\local\\pip\\cache\\wheels\\1c\\09\\7e\\9f659fde248ecdc1722a142c1d744271aad3914a0afc191058\n",
      "Successfully built peewee\n",
      "Installing collected packages: peewee, multitasking, html5lib, frozendict, yfinance\n",
      "Successfully installed frozendict-2.4.4 html5lib-1.1 multitasking-0.0.11 peewee-3.17.6 yfinance-0.2.41\n"
     ]
    },
    {
     "name": "stderr",
     "output_type": "stream",
     "text": [
      "  WARNING: The script sample.exe is installed in 'C:\\Users\\Pedro Soares\\AppData\\Roaming\\Python\\Python311\\Scripts' which is not on PATH.\n",
      "  Consider adding this directory to PATH or, if you prefer to suppress this warning, use --no-warn-script-location.\n"
     ]
    }
   ],
   "source": [
    "!pip install yfinance"
   ]
  },
  {
   "cell_type": "code",
   "execution_count": 4,
   "metadata": {},
   "outputs": [],
   "source": [
    "# Importando a biblioteca\n",
    "import yfinance"
   ]
  },
  {
   "cell_type": "code",
   "execution_count": 10,
   "metadata": {},
   "outputs": [
    {
     "data": {
      "text/plain": [
       "<Axes: xlabel='Date'>"
      ]
     },
     "execution_count": 10,
     "metadata": {},
     "output_type": "execute_result"
    },
    {
     "data": {
      "image/png": "[encoded data removed]",
      "text/plain": [
       "<Figure size 640x480 with 1 Axes>"
      ]
     },
     "metadata": {},
     "output_type": "display_data"
    }
   ],
   "source": [
    "ticker = input(\"Digite o código da ação desejada: \")\n",
    "\n",
    "dados = yfinance.Ticker(ticker).history(start=\"2020-01-01\", end= \"2020-12-31\")\n",
    "fechamento = dados.Close\n",
    "fechamento.plot()"
   ]
  },
  {
   "cell_type": "markdown",
   "metadata": {},
   "source": [
    "####  2 - Criando as análises solicitadas pelo gestor\n",
    "    - Cotação máxima\n",
    "    - Cotação mínima\n",
    "    - Valor médio"
   ]
  },
  {
   "cell_type": "code",
   "execution_count": 24,
   "metadata": {},
   "outputs": [
    {
     "name": "stdout",
     "output_type": "stream",
     "text": [
      "19.97\n",
      "8.33\n",
      "13.36\n"
     ]
    }
   ],
   "source": [
    "maxima = round(fechamento.max(), 2)\n",
    "media = round(fechamento.mean(), 2)\n",
    "minima = round(fechamento.min(), 2)\n",
    "\n",
    "print(maxima)\n",
    "print (minima)\n",
    "print(media)\n"
   ]
  },
  {
   "cell_type": "markdown",
   "metadata": {},
   "source": [
    "#### 3 - Enviar o e-mail automaticamente\n",
    "\n",
    "    - abrir o navegador e ir para o gmail\n",
    "    - clicar no botão de Escrever\n",
    "    - Digitar o email do destinatário e teclar TAB\n",
    "    - Digitar o assunto e teclar TAB\n",
    "    - Digitar a mensagem\n",
    "    - Clicar no botão Enviar\n",
    "\n",
    "    Biblioteca: 'pyautogui', 'pyperclip', webbrowser"
   ]
  },
  {
   "cell_type": "markdown",
   "metadata": {},
   "source": [
    "#### Bibliotecas"
   ]
  },
  {
   "cell_type": "code",
   "execution_count": 40,
   "metadata": {},
   "outputs": [],
   "source": [
    "import pyautogui\n",
    "import pyperclip\n",
    "import webbrowser\n",
    "import time\n",
    "\n",
    "destinatario = \"pedro.mello@outlook.com.br\"\n",
    "assunto = \"Teste de Automação\"\n",
    "\n",
    "mensagem = f\"\"\"\n",
    "Prezado Gestor,\n",
    "\n",
    "Seguem as análises solicitadas da ação {ticker} da empresa {ticker}\n",
    "\n",
    "Cotação Máxima: R${maxima}\n",
    "Cotação Miníma: R${minima}\n",
    "Valor médio: R${media}\n",
    "\n",
    "Se recebeu este e-mail é porque meu projeto de automação funcionou 100%\n",
    "\"\"\"\n",
    "#abrir o navegador e ir para o gmail\n",
    "webbrowser.open(\"www.gmail.com\")\n",
    "time.sleep(3)\n",
    "\n",
    "#CONFIGURANDO UMA PAUSA DE 3 SEGUNDOS\n",
    "pyautogui.PAUSE = 3\n",
    "\n",
    "#clicar no botão escrever\n",
    "pyautogui.click(x=80, y=214)\n",
    "\n",
    "#digitar o e-mail do destinatário e teclar TAB\n",
    "pyperclip.copy(destinatario)\n",
    "pyautogui.hotkey(\"ctrl\", \"v\")\n",
    "pyautogui.hotkey(\"tab\")\n",
    "\n",
    "#digitar o assunto do destinatário e teclar TAB\n",
    "pyperclip.copy(assunto)\n",
    "pyautogui.hotkey(\"ctrl\", \"v\")\n",
    "pyautogui.hotkey(\"tab\")\n",
    "\n",
    "#digitar a mensagem do destinatário e teclar TAB\n",
    "pyperclip.copy(mensagem)\n",
    "pyautogui.hotkey(\"ctrl\", \"v\")\n",
    "\n",
    "#clicar no botão Enviar\n",
    "pyautogui.click(x=1189, y=975)"
   ]
  },
  {
   "cell_type": "code",
   "execution_count": 41,
   "metadata": {},
   "outputs": [
    {
     "data": {
      "text/plain": [
       "Point(x=247, y=130)"
      ]
     },
     "execution_count": 41,
     "metadata": {},
     "output_type": "execute_result"
    }
   ],
   "source": [
    "time.sleep(5)\n",
    "pyautogui.position()"
   ]
  }
 ],
 "metadata": {
  "kernelspec": {
   "display_name": "base",
   "language": "python",
   "name": "python3"
  },
  "language_info": {
   "codemirror_mode": {
    "name": "ipython",
    "version": 3
   },
   "file_extension": ".py",
   "mimetype": "text/x-python",
   "name": "python",
   "nbconvert_exporter": "python",
   "pygments_lexer": "ipython3",
   "version": "3.11.7"
  }
 },
 "nbformat": 4,
 "nbformat_minor": 2
}
